{
  "nbformat": 4,
  "nbformat_minor": 0,
  "metadata": {
    "colab": {
      "provenance": [],
      "authorship_tag": "ABX9TyNzhTlOPElKiiNR+Gz62bDU",
      "include_colab_link": true
    },
    "kernelspec": {
      "name": "python3",
      "display_name": "Python 3"
    },
    "language_info": {
      "name": "python"
    }
  },
  "cells": [
    {
      "cell_type": "markdown",
      "metadata": {
        "id": "view-in-github",
        "colab_type": "text"
      },
      "source": [
        "<a href=\"https://colab.research.google.com/github/VictorN77/poggeres/blob/main/C%C3%B3pia_de_Untitled2.ipynb\" target=\"_parent\"><img src=\"https://colab.research.google.com/assets/colab-badge.svg\" alt=\"Open In Colab\"/></a>"
      ]
    },
    {
      "cell_type": "markdown",
      "source": [
        "Exemplo 1: Operação matemática simples"
      ],
      "metadata": {
        "id": "IfoNfEOsnHUc"
      }
    },
    {
      "cell_type": "code",
      "source": [
        "5 + 3"
      ],
      "metadata": {
        "colab": {
          "base_uri": "https://localhost:8080/"
        },
        "id": "MAAWkiqqnFyH",
        "outputId": "22820793-2d99-4b59-85af-8459eb05c43b"
      },
      "execution_count": null,
      "outputs": [
        {
          "output_type": "execute_result",
          "data": {
            "text/plain": [
              "8"
            ]
          },
          "metadata": {},
          "execution_count": 1
        }
      ]
    },
    {
      "cell_type": "markdown",
      "source": [
        "Exemplos Strings:"
      ],
      "metadata": {
        "id": "MnevSO1qps1F"
      }
    },
    {
      "cell_type": "markdown",
      "source": [
        "Exemplo 2: Nome"
      ],
      "metadata": {
        "id": "v5K6RFJJoEFs"
      }
    },
    {
      "cell_type": "code",
      "source": [
        "\"Victor\""
      ],
      "metadata": {
        "colab": {
          "base_uri": "https://localhost:8080/",
          "height": 35
        },
        "id": "CKABlICnoMH9",
        "outputId": "83f21e8e-5cc1-48bd-aff1-23e71fce5e88"
      },
      "execution_count": null,
      "outputs": [
        {
          "output_type": "execute_result",
          "data": {
            "text/plain": [
              "'Victor'"
            ],
            "application/vnd.google.colaboratory.intrinsic+json": {
              "type": "string"
            }
          },
          "metadata": {},
          "execution_count": 3
        }
      ]
    },
    {
      "cell_type": "markdown",
      "source": [
        "Exemplo 3: Juntar Strings"
      ],
      "metadata": {
        "id": "91Ur7KSQoTck"
      }
    },
    {
      "cell_type": "code",
      "source": [
        "\"Oi \" + \"Olá\""
      ],
      "metadata": {
        "colab": {
          "base_uri": "https://localhost:8080/",
          "height": 35
        },
        "id": "qz5rb5GroZ2c",
        "outputId": "acecf1f8-9867-4442-ad09-b1690f65ac0a"
      },
      "execution_count": null,
      "outputs": [
        {
          "output_type": "execute_result",
          "data": {
            "text/plain": [
              "'OiOlá'"
            ],
            "application/vnd.google.colaboratory.intrinsic+json": {
              "type": "string"
            }
          },
          "metadata": {},
          "execution_count": 4
        }
      ]
    },
    {
      "cell_type": "markdown",
      "source": [
        "Exemplo 4: Multiplicar String"
      ],
      "metadata": {
        "id": "7YmS5dsOoiK7"
      }
    },
    {
      "cell_type": "code",
      "source": [
        "\"Olá\" * 3"
      ],
      "metadata": {
        "colab": {
          "base_uri": "https://localhost:8080/",
          "height": 35
        },
        "id": "zwZkNX7Uoqq1",
        "outputId": "1787bd4a-17e0-4137-db42-4408a1806e39"
      },
      "execution_count": null,
      "outputs": [
        {
          "output_type": "execute_result",
          "data": {
            "text/plain": [
              "'OláOláOlá'"
            ],
            "application/vnd.google.colaboratory.intrinsic+json": {
              "type": "string"
            }
          },
          "metadata": {},
          "execution_count": 5
        }
      ]
    },
    {
      "cell_type": "markdown",
      "source": [
        "Exemplo 5: Apóstrofe"
      ],
      "metadata": {
        "id": "kOqJb9zVo1PE"
      }
    },
    {
      "cell_type": "code",
      "source": [
        "\"Teste'\""
      ],
      "metadata": {
        "colab": {
          "base_uri": "https://localhost:8080/",
          "height": 35
        },
        "id": "V4PdhGsQpA6c",
        "outputId": "eda297e2-38e6-4281-8479-4e43e65fdff8"
      },
      "execution_count": null,
      "outputs": [
        {
          "output_type": "execute_result",
          "data": {
            "text/plain": [
              "\"Teste'\""
            ],
            "application/vnd.google.colaboratory.intrinsic+json": {
              "type": "string"
            }
          },
          "metadata": {},
          "execution_count": 6
        }
      ]
    },
    {
      "cell_type": "markdown",
      "source": [
        "Exemplo 5.1"
      ],
      "metadata": {
        "id": "9oHbzwz0pEv0"
      }
    },
    {
      "cell_type": "code",
      "source": [
        "'Teste\\''"
      ],
      "metadata": {
        "colab": {
          "base_uri": "https://localhost:8080/",
          "height": 35
        },
        "id": "PWUlB01kpIYb",
        "outputId": "e81f4114-d0fb-4aee-b3ed-f67bbd63c86f"
      },
      "execution_count": null,
      "outputs": [
        {
          "output_type": "execute_result",
          "data": {
            "text/plain": [
              "\"Teste'\""
            ],
            "application/vnd.google.colaboratory.intrinsic+json": {
              "type": "string"
            }
          },
          "metadata": {},
          "execution_count": 10
        }
      ]
    },
    {
      "cell_type": "markdown",
      "source": [
        "Exemplo 6: Maiúsculas"
      ],
      "metadata": {
        "id": "e_XUwJo_p3OV"
      }
    },
    {
      "cell_type": "code",
      "source": [
        "\"Olá\".upper()"
      ],
      "metadata": {
        "colab": {
          "base_uri": "https://localhost:8080/",
          "height": 35
        },
        "id": "fLKFYeunpgRr",
        "outputId": "bab2c6f5-5ffd-4ff0-94c2-0b641f015dee"
      },
      "execution_count": null,
      "outputs": [
        {
          "output_type": "execute_result",
          "data": {
            "text/plain": [
              "'OLÁ'"
            ],
            "application/vnd.google.colaboratory.intrinsic+json": {
              "type": "string"
            }
          },
          "metadata": {},
          "execution_count": 13
        }
      ]
    },
    {
      "cell_type": "markdown",
      "source": [
        "Exemplo 7: Número de letras"
      ],
      "metadata": {
        "id": "8ByBwDs0p4gM"
      }
    },
    {
      "cell_type": "code",
      "source": [
        "len(\"Abacaxi\")"
      ],
      "metadata": {
        "colab": {
          "base_uri": "https://localhost:8080/"
        },
        "id": "FUXYsLXGp_mm",
        "outputId": "aea8dbf4-3862-452f-9f48-98a66c80eca4"
      },
      "execution_count": null,
      "outputs": [
        {
          "output_type": "execute_result",
          "data": {
            "text/plain": [
              "7"
            ]
          },
          "metadata": {},
          "execution_count": 14
        }
      ]
    },
    {
      "cell_type": "markdown",
      "source": [
        "Exemplos erros:"
      ],
      "metadata": {
        "id": "6_q1y6AmqMS7"
      }
    },
    {
      "cell_type": "markdown",
      "source": [
        "Exemplo 8: Len em números"
      ],
      "metadata": {
        "id": "OkOYrLfGqNS0"
      }
    },
    {
      "cell_type": "code",
      "source": [
        "len(1242)"
      ],
      "metadata": {
        "colab": {
          "base_uri": "https://localhost:8080/"
        },
        "id": "Pt9UPVfuqIL8",
        "outputId": "7500e894-d958-44f3-d575-14a28defeb30"
      },
      "execution_count": null,
      "outputs": [
        {
          "output_type": "execute_result",
          "data": {
            "text/plain": [
              "4"
            ]
          },
          "metadata": {},
          "execution_count": 15
        }
      ]
    },
    {
      "cell_type": "markdown",
      "source": [
        "Exemplo 8.1"
      ],
      "metadata": {
        "id": "Wvv_D3ukqoFE"
      }
    },
    {
      "cell_type": "code",
      "source": [
        "len(str(1242))"
      ],
      "metadata": {
        "id": "1ydDuMF2qrKu"
      },
      "execution_count": null,
      "outputs": []
    },
    {
      "cell_type": "markdown",
      "source": [
        "Exemplos variáveis"
      ],
      "metadata": {
        "id": "HKHBtxJBqw9E"
      }
    },
    {
      "cell_type": "markdown",
      "source": [
        "Exemplo 9: variável"
      ],
      "metadata": {
        "id": "9m3H6dOwq2YM"
      }
    },
    {
      "cell_type": "code",
      "source": [
        "nome =  \"Olá\"\n",
        "nome"
      ],
      "metadata": {
        "colab": {
          "base_uri": "https://localhost:8080/",
          "height": 35
        },
        "id": "sKuetZdeq07l",
        "outputId": "a45a1ce6-9517-4631-d5a4-f580daf96188"
      },
      "execution_count": null,
      "outputs": [
        {
          "output_type": "execute_result",
          "data": {
            "text/plain": [
              "'Olá'"
            ],
            "application/vnd.google.colaboratory.intrinsic+json": {
              "type": "string"
            }
          },
          "metadata": {},
          "execution_count": 16
        }
      ]
    },
    {
      "cell_type": "markdown",
      "source": [
        "Exemplo 10: Usar variável em funções:"
      ],
      "metadata": {
        "id": "7z5GBNhwrFq0"
      }
    },
    {
      "cell_type": "code",
      "source": [
        "len(nome)"
      ],
      "metadata": {
        "colab": {
          "base_uri": "https://localhost:8080/"
        },
        "id": "Sr3iawH_rO58",
        "outputId": "dea0a697-f584-4f90-f463-855a819a1cb7"
      },
      "execution_count": null,
      "outputs": [
        {
          "output_type": "execute_result",
          "data": {
            "text/plain": [
              "3"
            ]
          },
          "metadata": {},
          "execution_count": 17
        }
      ]
    },
    {
      "cell_type": "markdown",
      "source": [
        "Exemplo 11: Interagindo variáveis"
      ],
      "metadata": {
        "id": "GlIP4bTorTTM"
      }
    },
    {
      "cell_type": "code",
      "source": [
        "a = 3\n",
        "b = 9\n",
        "a * b"
      ],
      "metadata": {
        "colab": {
          "base_uri": "https://localhost:8080/"
        },
        "id": "geyx1PenrdGz",
        "outputId": "79bbfed0-e398-4401-9e27-4489f14cc880"
      },
      "execution_count": null,
      "outputs": [
        {
          "output_type": "execute_result",
          "data": {
            "text/plain": [
              "27"
            ]
          },
          "metadata": {},
          "execution_count": 18
        }
      ]
    },
    {
      "cell_type": "markdown",
      "source": [
        "Exemplo 12: Erro"
      ],
      "metadata": {
        "id": "fHq3NGVzrhL2"
      }
    },
    {
      "cell_type": "code",
      "source": [
        "cidade = \"BH\"\n",
        "cidadee"
      ],
      "metadata": {
        "colab": {
          "base_uri": "https://localhost:8080/",
          "height": 159
        },
        "id": "nnNp_R56rv_1",
        "outputId": "b5ef725a-6059-499a-933e-57585136429b"
      },
      "execution_count": null,
      "outputs": [
        {
          "output_type": "error",
          "ename": "NameError",
          "evalue": "name 'cidadee' is not defined",
          "traceback": [
            "\u001b[0;31m---------------------------------------------------------------------------\u001b[0m",
            "\u001b[0;31mNameError\u001b[0m                                 Traceback (most recent call last)",
            "\u001b[0;32m<ipython-input-20-b587e2fbc498>\u001b[0m in \u001b[0;36m<cell line: 2>\u001b[0;34m()\u001b[0m\n\u001b[1;32m      1\u001b[0m \u001b[0mcidade\u001b[0m \u001b[0;34m=\u001b[0m \u001b[0;34m\"BH\"\u001b[0m\u001b[0;34m\u001b[0m\u001b[0;34m\u001b[0m\u001b[0m\n\u001b[0;32m----> 2\u001b[0;31m \u001b[0mcidadee\u001b[0m\u001b[0;34m\u001b[0m\u001b[0;34m\u001b[0m\u001b[0m\n\u001b[0m",
            "\u001b[0;31mNameError\u001b[0m: name 'cidadee' is not defined"
          ]
        }
      ]
    },
    {
      "cell_type": "markdown",
      "source": [
        "Exemplos print"
      ],
      "metadata": {
        "id": "HmL7h8l5rpZd"
      }
    },
    {
      "cell_type": "markdown",
      "source": [
        "Exemplo 13: Print"
      ],
      "metadata": {
        "id": "x-xmtH2VsFjk"
      }
    },
    {
      "cell_type": "code",
      "source": [
        "nome = \"Victor\"\n",
        "nome\n"
      ],
      "metadata": {
        "colab": {
          "base_uri": "https://localhost:8080/",
          "height": 35
        },
        "id": "Ek1HhjKisIMt",
        "outputId": "e501ac65-3d44-4ced-e597-22552af75af7"
      },
      "execution_count": null,
      "outputs": [
        {
          "output_type": "execute_result",
          "data": {
            "text/plain": [
              "'Victor'"
            ],
            "application/vnd.google.colaboratory.intrinsic+json": {
              "type": "string"
            }
          },
          "metadata": {},
          "execution_count": 22
        }
      ]
    },
    {
      "cell_type": "code",
      "source": [
        "print(nome)"
      ],
      "metadata": {
        "colab": {
          "base_uri": "https://localhost:8080/"
        },
        "id": "C6QTnqe9sTds",
        "outputId": "dd0175e3-1a94-492e-ad0d-7f0d9bd76db3"
      },
      "execution_count": null,
      "outputs": [
        {
          "output_type": "stream",
          "name": "stdout",
          "text": [
            "Victor\n"
          ]
        }
      ]
    },
    {
      "cell_type": "markdown",
      "source": [
        "Exemplos Listas"
      ],
      "metadata": {
        "id": "4vd0iJXLsnwH"
      }
    },
    {
      "cell_type": "markdown",
      "source": [
        "Exemplo 14: Lista vazia"
      ],
      "metadata": {
        "id": "4Vpmuh-hsYed"
      }
    },
    {
      "cell_type": "code",
      "source": [
        "[]"
      ],
      "metadata": {
        "colab": {
          "base_uri": "https://localhost:8080/"
        },
        "id": "Pg3Gei_OsXhV",
        "outputId": "300d5d3c-5d1a-4fce-afe7-88ea64f8fa39"
      },
      "execution_count": null,
      "outputs": [
        {
          "output_type": "execute_result",
          "data": {
            "text/plain": [
              "[]"
            ]
          },
          "metadata": {},
          "execution_count": 24
        }
      ]
    },
    {
      "cell_type": "markdown",
      "source": [
        "Exemplo 15: Loteria"
      ],
      "metadata": {
        "id": "4sCYdjfJsu7e"
      }
    },
    {
      "cell_type": "code",
      "source": [
        "loteria = [1, 32, 21, 23, 42]"
      ],
      "metadata": {
        "id": "_tJkWg8vsyD-"
      },
      "execution_count": null,
      "outputs": []
    },
    {
      "cell_type": "markdown",
      "source": [
        "Exemplo 16: len lista"
      ],
      "metadata": {
        "id": "U_CvBeGqs8Q8"
      }
    },
    {
      "cell_type": "code",
      "source": [
        "len(loteria)"
      ],
      "metadata": {
        "colab": {
          "base_uri": "https://localhost:8080/"
        },
        "id": "PWKlxS99s_y1",
        "outputId": "a7a17692-086c-4059-fee7-e27ba644600c"
      },
      "execution_count": null,
      "outputs": [
        {
          "output_type": "execute_result",
          "data": {
            "text/plain": [
              "5"
            ]
          },
          "metadata": {},
          "execution_count": 28
        }
      ]
    },
    {
      "cell_type": "markdown",
      "source": [
        "Exemplo 17: sort"
      ],
      "metadata": {
        "id": "_OgL4N37tUl9"
      }
    },
    {
      "cell_type": "code",
      "source": [
        "loteria.sort()\n",
        "print(loteria)"
      ],
      "metadata": {
        "colab": {
          "base_uri": "https://localhost:8080/"
        },
        "id": "ZYUT7pm9taom",
        "outputId": "d020eb82-68f5-4a72-ee26-4fdcc707604e"
      },
      "execution_count": null,
      "outputs": [
        {
          "output_type": "stream",
          "name": "stdout",
          "text": [
            "[1, 21, 23, 32, 42]\n"
          ]
        }
      ]
    },
    {
      "cell_type": "markdown",
      "source": [
        "Exemplo 18: append"
      ],
      "metadata": {
        "id": "gjY_K0wStoTj"
      }
    },
    {
      "cell_type": "code",
      "source": [
        "loteria.append(90)\n",
        "print(loteria)"
      ],
      "metadata": {
        "colab": {
          "base_uri": "https://localhost:8080/"
        },
        "id": "FiZD9-Dit3d7",
        "outputId": "500448de-b17e-43b1-bda7-5a3d3e101083"
      },
      "execution_count": null,
      "outputs": [
        {
          "output_type": "stream",
          "name": "stdout",
          "text": [
            "[1, 21, 23, 32, 42, 90, 90]\n"
          ]
        }
      ]
    },
    {
      "cell_type": "markdown",
      "source": [
        "Exemplo 19: índices"
      ],
      "metadata": {
        "id": "-iLmG58-t6dM"
      }
    },
    {
      "cell_type": "code",
      "source": [
        "print(loteria[2])\n",
        "print(loteria[0])\n",
        "print(loteria[9999])"
      ],
      "metadata": {
        "colab": {
          "base_uri": "https://localhost:8080/",
          "height": 211
        },
        "id": "hLdKcpTouGds",
        "outputId": "c53a2f38-38e1-4dcd-c41f-59e8790d3227"
      },
      "execution_count": null,
      "outputs": [
        {
          "output_type": "stream",
          "name": "stdout",
          "text": [
            "23\n",
            "1\n"
          ]
        },
        {
          "output_type": "error",
          "ename": "IndexError",
          "evalue": "list index out of range",
          "traceback": [
            "\u001b[0;31m---------------------------------------------------------------------------\u001b[0m",
            "\u001b[0;31mIndexError\u001b[0m                                Traceback (most recent call last)",
            "\u001b[0;32m<ipython-input-36-30def4ae116d>\u001b[0m in \u001b[0;36m<cell line: 3>\u001b[0;34m()\u001b[0m\n\u001b[1;32m      1\u001b[0m \u001b[0mprint\u001b[0m\u001b[0;34m(\u001b[0m\u001b[0mloteria\u001b[0m\u001b[0;34m[\u001b[0m\u001b[0;36m2\u001b[0m\u001b[0;34m]\u001b[0m\u001b[0;34m)\u001b[0m\u001b[0;34m\u001b[0m\u001b[0;34m\u001b[0m\u001b[0m\n\u001b[1;32m      2\u001b[0m \u001b[0mprint\u001b[0m\u001b[0;34m(\u001b[0m\u001b[0mloteria\u001b[0m\u001b[0;34m[\u001b[0m\u001b[0;36m0\u001b[0m\u001b[0;34m]\u001b[0m\u001b[0;34m)\u001b[0m\u001b[0;34m\u001b[0m\u001b[0;34m\u001b[0m\u001b[0m\n\u001b[0;32m----> 3\u001b[0;31m \u001b[0mprint\u001b[0m\u001b[0;34m(\u001b[0m\u001b[0mloteria\u001b[0m\u001b[0;34m[\u001b[0m\u001b[0;36m9999\u001b[0m\u001b[0;34m]\u001b[0m\u001b[0;34m)\u001b[0m\u001b[0;34m\u001b[0m\u001b[0;34m\u001b[0m\u001b[0m\n\u001b[0m",
            "\u001b[0;31mIndexError\u001b[0m: list index out of range"
          ]
        }
      ]
    },
    {
      "cell_type": "markdown",
      "source": [
        "Exemplos dicionários"
      ],
      "metadata": {
        "id": "ySrkaSuvuR-d"
      }
    },
    {
      "cell_type": "markdown",
      "source": [
        "Exemplo 20: Dicionário vazio"
      ],
      "metadata": {
        "id": "EedDN2k0uXq9"
      }
    },
    {
      "cell_type": "code",
      "source": [
        "{}"
      ],
      "metadata": {
        "id": "-8vOzLUdubhM"
      },
      "execution_count": null,
      "outputs": []
    },
    {
      "cell_type": "markdown",
      "source": [
        "Exemplo 21: Dicionário"
      ],
      "metadata": {
        "id": "dIyU2OUpucYc"
      }
    },
    {
      "cell_type": "code",
      "source": [
        "dicionario = {'cor': 'vermelho', 'numero': 2222, 'nome': 'Ricardo'}"
      ],
      "metadata": {
        "id": "fPi3MCsXup7V"
      },
      "execution_count": null,
      "outputs": []
    },
    {
      "cell_type": "code",
      "source": [
        "print(dicionario['numero'])"
      ],
      "metadata": {
        "colab": {
          "base_uri": "https://localhost:8080/"
        },
        "id": "pNcBQMDCvNct",
        "outputId": "28d5409c-4f43-4f7c-e26e-5d86717434dd"
      },
      "execution_count": null,
      "outputs": [
        {
          "output_type": "stream",
          "name": "stdout",
          "text": [
            "2222\n"
          ]
        }
      ]
    },
    {
      "cell_type": "markdown",
      "source": [
        "Exemplo 22: Erro"
      ],
      "metadata": {
        "id": "Q8ssiCl8vMw1"
      }
    },
    {
      "cell_type": "code",
      "source": [
        "print(dicionario['fruta'])"
      ],
      "metadata": {
        "colab": {
          "base_uri": "https://localhost:8080/",
          "height": 141
        },
        "id": "WXyI3deCvlAl",
        "outputId": "de34db0a-ba5d-4e60-ab43-ae567ee3f466"
      },
      "execution_count": null,
      "outputs": [
        {
          "output_type": "error",
          "ename": "KeyError",
          "evalue": "'fruta'",
          "traceback": [
            "\u001b[0;31m---------------------------------------------------------------------------\u001b[0m",
            "\u001b[0;31mKeyError\u001b[0m                                  Traceback (most recent call last)",
            "\u001b[0;32m<ipython-input-44-46408ff673b5>\u001b[0m in \u001b[0;36m<cell line: 1>\u001b[0;34m()\u001b[0m\n\u001b[0;32m----> 1\u001b[0;31m \u001b[0mprint\u001b[0m\u001b[0;34m(\u001b[0m\u001b[0mdicionario\u001b[0m\u001b[0;34m[\u001b[0m\u001b[0;34m'fruta'\u001b[0m\u001b[0;34m]\u001b[0m\u001b[0;34m)\u001b[0m\u001b[0;34m\u001b[0m\u001b[0;34m\u001b[0m\u001b[0m\n\u001b[0m",
            "\u001b[0;31mKeyError\u001b[0m: 'fruta'"
          ]
        }
      ]
    },
    {
      "cell_type": "markdown",
      "source": [
        "Exemplo 23: Alterar valor no dicionário"
      ],
      "metadata": {
        "id": "ggU6aDdQvqaF"
      }
    },
    {
      "cell_type": "code",
      "source": [
        "dicionario['cor'] = \"rosa\""
      ],
      "metadata": {
        "id": "vNuW6EPiwGj9"
      },
      "execution_count": null,
      "outputs": []
    },
    {
      "cell_type": "markdown",
      "source": [
        "Exemplo 24: len dicionário"
      ],
      "metadata": {
        "id": "OkPenR0kwOdl"
      }
    },
    {
      "cell_type": "code",
      "source": [
        "len(dicionario)"
      ],
      "metadata": {
        "colab": {
          "base_uri": "https://localhost:8080/"
        },
        "id": "9s6divtvwW3O",
        "outputId": "6b87c771-5837-443e-d0e9-a25e58e75c38"
      },
      "execution_count": null,
      "outputs": [
        {
          "output_type": "execute_result",
          "data": {
            "text/plain": [
              "3"
            ]
          },
          "metadata": {},
          "execution_count": 46
        }
      ]
    },
    {
      "cell_type": "markdown",
      "source": [
        "Exemplo 25: pop"
      ],
      "metadata": {
        "id": "vgVNZlAuwcuV"
      }
    },
    {
      "cell_type": "code",
      "source": [
        "dicionario.pop('nome')"
      ],
      "metadata": {
        "colab": {
          "base_uri": "https://localhost:8080/",
          "height": 141
        },
        "id": "pHyuiMyEwiFF",
        "outputId": "f5c114fc-c11e-4d0f-ee46-41f10d41833f"
      },
      "execution_count": null,
      "outputs": [
        {
          "output_type": "error",
          "ename": "KeyError",
          "evalue": "'nome'",
          "traceback": [
            "\u001b[0;31m---------------------------------------------------------------------------\u001b[0m",
            "\u001b[0;31mKeyError\u001b[0m                                  Traceback (most recent call last)",
            "\u001b[0;32m<ipython-input-48-2be07c9b4b5e>\u001b[0m in \u001b[0;36m<cell line: 1>\u001b[0;34m()\u001b[0m\n\u001b[0;32m----> 1\u001b[0;31m \u001b[0mdicionario\u001b[0m\u001b[0;34m.\u001b[0m\u001b[0mpop\u001b[0m\u001b[0;34m(\u001b[0m\u001b[0;34m'nome'\u001b[0m\u001b[0;34m)\u001b[0m\u001b[0;34m\u001b[0m\u001b[0;34m\u001b[0m\u001b[0m\n\u001b[0m",
            "\u001b[0;31mKeyError\u001b[0m: 'nome'"
          ]
        }
      ]
    },
    {
      "cell_type": "markdown",
      "source": [
        "Exemplos comparações"
      ],
      "metadata": {
        "id": "Ke0xDvWSwpJz"
      }
    },
    {
      "cell_type": "markdown",
      "source": [
        "Exemplo 26: comparação simples"
      ],
      "metadata": {
        "id": "3EUhixbPwzFs"
      }
    },
    {
      "cell_type": "code",
      "source": [
        "4 > 3"
      ],
      "metadata": {
        "colab": {
          "base_uri": "https://localhost:8080/"
        },
        "id": "C-tazhcnw3KV",
        "outputId": "ec7be492-37cc-4f40-fe7d-acffccc91cde"
      },
      "execution_count": null,
      "outputs": [
        {
          "output_type": "execute_result",
          "data": {
            "text/plain": [
              "True"
            ]
          },
          "metadata": {},
          "execution_count": 50
        }
      ]
    },
    {
      "cell_type": "code",
      "source": [
        "3 < 1"
      ],
      "metadata": {
        "colab": {
          "base_uri": "https://localhost:8080/"
        },
        "id": "Yeh73HezxBfq",
        "outputId": "9235a6f0-a661-4732-c43c-4ec3f22047d2"
      },
      "execution_count": null,
      "outputs": [
        {
          "output_type": "execute_result",
          "data": {
            "text/plain": [
              "False"
            ]
          },
          "metadata": {},
          "execution_count": 54
        }
      ]
    },
    {
      "cell_type": "code",
      "source": [
        "5 == 5"
      ],
      "metadata": {
        "colab": {
          "base_uri": "https://localhost:8080/"
        },
        "id": "xKG7xBUUxD5t",
        "outputId": "52853cfc-a226-4c7a-cdda-9f87a4e9d4ab"
      },
      "execution_count": null,
      "outputs": [
        {
          "output_type": "execute_result",
          "data": {
            "text/plain": [
              "True"
            ]
          },
          "metadata": {},
          "execution_count": 55
        }
      ]
    },
    {
      "cell_type": "markdown",
      "source": [
        "Exemplo 27: comparações múltiplas"
      ],
      "metadata": {
        "id": "5nSvx8X9xJmL"
      }
    },
    {
      "cell_type": "code",
      "source": [
        "2 == 2 and 3 > 8"
      ],
      "metadata": {
        "id": "vCR3EQPixIVt"
      },
      "execution_count": null,
      "outputs": []
    },
    {
      "cell_type": "code",
      "source": [
        "1 != 4 or 5 < 3"
      ],
      "metadata": {
        "id": "0QZUyD_xxfos"
      },
      "execution_count": null,
      "outputs": []
    },
    {
      "cell_type": "markdown",
      "source": [
        "Exemplo 28: Erro comparação"
      ],
      "metadata": {
        "id": "TP1QfbhwxnrL"
      }
    },
    {
      "cell_type": "code",
      "source": [
        "'abaco' >= 0"
      ],
      "metadata": {
        "colab": {
          "base_uri": "https://localhost:8080/",
          "height": 141
        },
        "id": "tTwY1ohlxsnl",
        "outputId": "c59e9819-50ad-4dad-ef01-345960b3c161"
      },
      "execution_count": null,
      "outputs": [
        {
          "output_type": "error",
          "ename": "TypeError",
          "evalue": "'>=' not supported between instances of 'str' and 'int'",
          "traceback": [
            "\u001b[0;31m---------------------------------------------------------------------------\u001b[0m",
            "\u001b[0;31mTypeError\u001b[0m                                 Traceback (most recent call last)",
            "\u001b[0;32m<ipython-input-57-70072abe47ea>\u001b[0m in \u001b[0;36m<cell line: 1>\u001b[0;34m()\u001b[0m\n\u001b[0;32m----> 1\u001b[0;31m \u001b[0;34m'abaco'\u001b[0m \u001b[0;34m>=\u001b[0m \u001b[0;36m0\u001b[0m\u001b[0;34m\u001b[0m\u001b[0;34m\u001b[0m\u001b[0m\n\u001b[0m",
            "\u001b[0;31mTypeError\u001b[0m: '>=' not supported between instances of 'str' and 'int'"
          ]
        }
      ]
    },
    {
      "cell_type": "markdown",
      "source": [
        "Exemplos Booleanos"
      ],
      "metadata": {
        "id": "ik_aqCglx3UW"
      }
    },
    {
      "cell_type": "markdown",
      "source": [
        "Exemplo 29: Booleano"
      ],
      "metadata": {
        "id": "hfn1Dl7kx59N"
      }
    },
    {
      "cell_type": "code",
      "source": [
        "a = True\n",
        "a"
      ],
      "metadata": {
        "colab": {
          "base_uri": "https://localhost:8080/"
        },
        "id": "G1UgJcExyAw9",
        "outputId": "187302cb-8ef3-4c00-fe14-c34b9c4cef3d"
      },
      "execution_count": null,
      "outputs": [
        {
          "output_type": "execute_result",
          "data": {
            "text/plain": [
              "True"
            ]
          },
          "metadata": {},
          "execution_count": 59
        }
      ]
    },
    {
      "cell_type": "markdown",
      "source": [
        "Exemplo 30: praticando booleanos"
      ],
      "metadata": {
        "id": "3pess7U8yEns"
      }
    },
    {
      "cell_type": "code",
      "source": [
        "True and True"
      ],
      "metadata": {
        "id": "BjHUzAm2yMdF"
      },
      "execution_count": null,
      "outputs": []
    },
    {
      "cell_type": "code",
      "source": [
        "False and True\n",
        "\n"
      ],
      "metadata": {
        "id": "5kTWedkHyNKN"
      },
      "execution_count": null,
      "outputs": []
    },
    {
      "cell_type": "code",
      "source": [
        "True or 1 == 1\n",
        "\n"
      ],
      "metadata": {
        "id": "i7pQ_XiMyPG2"
      },
      "execution_count": null,
      "outputs": []
    },
    {
      "cell_type": "code",
      "source": [
        "1 != 2\n",
        "\n"
      ],
      "metadata": {
        "id": "brSFZBtyyQr-"
      },
      "execution_count": null,
      "outputs": []
    },
    {
      "cell_type": "markdown",
      "source": [
        "Exemplo 31: exit"
      ],
      "metadata": {
        "id": "VMjHc-rKyx8V"
      }
    },
    {
      "cell_type": "code",
      "source": [
        "exit()"
      ],
      "metadata": {
        "id": "46wIJEhPyjKW"
      },
      "execution_count": null,
      "outputs": []
    },
    {
      "cell_type": "markdown",
      "source": [
        "Exemplos if else\n"
      ],
      "metadata": {
        "id": "Rj6W_GFsyS5k"
      }
    },
    {
      "cell_type": "markdown",
      "source": [
        "Exemplo 32: if"
      ],
      "metadata": {
        "id": "LpzL9r_xywMd"
      }
    },
    {
      "cell_type": "code",
      "source": [
        "if 9 == 9:\n",
        "  print(\"Isso deve aparecer\")"
      ],
      "metadata": {
        "colab": {
          "base_uri": "https://localhost:8080/"
        },
        "id": "LB1KLoLqy4u9",
        "outputId": "2fa026f4-ec25-4339-b1db-f69b70a04542"
      },
      "execution_count": null,
      "outputs": [
        {
          "output_type": "stream",
          "name": "stdout",
          "text": [
            "Isso deve aparecer\n"
          ]
        }
      ]
    },
    {
      "cell_type": "markdown",
      "source": [
        "Exemplo 33: if else"
      ],
      "metadata": {
        "id": "lCLgEjNpzNKs"
      }
    },
    {
      "cell_type": "code",
      "source": [
        "if 1 == 0:\n",
        "  print(\"isso não deve aparecer\")\n",
        "else:\n",
        "  print(\"isso deve aparecer\")"
      ],
      "metadata": {
        "colab": {
          "base_uri": "https://localhost:8080/"
        },
        "id": "GORZcdVXzQuD",
        "outputId": "32aa4547-49b8-48a9-82ec-6afebd274c3c"
      },
      "execution_count": null,
      "outputs": [
        {
          "output_type": "stream",
          "name": "stdout",
          "text": [
            "isso deve aparecer\n"
          ]
        }
      ]
    },
    {
      "cell_type": "markdown",
      "source": [
        "Exemplos funções:"
      ],
      "metadata": {
        "id": "Keo7w0fhzs7z"
      }
    },
    {
      "cell_type": "markdown",
      "source": [
        "Exemplo 34: função"
      ],
      "metadata": {
        "id": "qOsmiJedz51T"
      }
    },
    {
      "cell_type": "code",
      "source": [
        "def funcao():\n",
        "    print(\"a\")\n",
        "    print(\"b\")\n",
        "    print(\"c\")\n",
        "\n",
        "funcao()"
      ],
      "metadata": {
        "colab": {
          "base_uri": "https://localhost:8080/"
        },
        "id": "MS8QY5RX0Bs9",
        "outputId": "c379db96-8a79-4d8e-8469-80f6a9a863ea"
      },
      "execution_count": null,
      "outputs": [
        {
          "output_type": "stream",
          "name": "stdout",
          "text": [
            "a\n",
            "b\n",
            "c\n"
          ]
        }
      ]
    },
    {
      "cell_type": "markdown",
      "source": [
        "Exemplo 35: função com parâmetro"
      ],
      "metadata": {
        "id": "LR9xSWAK0dSt"
      }
    },
    {
      "cell_type": "code",
      "source": [
        "def funcao2(nome):\n",
        "  if len(nome) > 4:\n",
        "    print(\"uva\")\n",
        "  else:\n",
        "    print(\"banana\")\n",
        "\n",
        "funcao2(\"Adriano\")\n"
      ],
      "metadata": {
        "colab": {
          "base_uri": "https://localhost:8080/"
        },
        "id": "oO7qWPcE0taV",
        "outputId": "9249c53b-e29d-43b6-e17e-f15b47e74ff3"
      },
      "execution_count": null,
      "outputs": [
        {
          "output_type": "stream",
          "name": "stdout",
          "text": [
            "uva\n"
          ]
        }
      ]
    },
    {
      "cell_type": "markdown",
      "source": [
        "Exemplos loop"
      ],
      "metadata": {
        "id": "ApiUvSQI11tG"
      }
    },
    {
      "cell_type": "markdown",
      "source": [
        "Exemplo 36: for"
      ],
      "metadata": {
        "id": "DWQDL6Wy1rd9"
      }
    },
    {
      "cell_type": "code",
      "source": [
        "for i in dicionario:\n",
        "  print(i)"
      ],
      "metadata": {
        "colab": {
          "base_uri": "https://localhost:8080/"
        },
        "id": "jlskb-Yl1_tV",
        "outputId": "cb9f12a9-da7f-4072-e081-8ab882ff906a"
      },
      "execution_count": null,
      "outputs": [
        {
          "output_type": "stream",
          "name": "stdout",
          "text": [
            "cor\n",
            "numero\n",
            "nome\n"
          ]
        }
      ]
    },
    {
      "cell_type": "markdown",
      "source": [
        "Exemplo 37: range"
      ],
      "metadata": {
        "id": "g88Kua2j2XmF"
      }
    },
    {
      "cell_type": "code",
      "source": [
        "for n in range(1,8):\n",
        "  print (n * 3)"
      ],
      "metadata": {
        "colab": {
          "base_uri": "https://localhost:8080/"
        },
        "id": "0-n2QACX2Z5m",
        "outputId": "02171d68-5afc-4481-c38c-a12f54fe9b49"
      },
      "execution_count": null,
      "outputs": [
        {
          "output_type": "stream",
          "name": "stdout",
          "text": [
            "3\n",
            "6\n",
            "9\n",
            "12\n",
            "15\n",
            "18\n",
            "21\n"
          ]
        }
      ]
    },
    {
      "cell_type": "markdown",
      "source": [
        "Atividades extra"
      ],
      "metadata": {
        "id": "4uLF-pV63GOb"
      }
    },
    {
      "cell_type": "markdown",
      "source": [
        "Exercício 3.1"
      ],
      "metadata": {
        "id": "N60H_Tzq3IP7"
      }
    },
    {
      "cell_type": "code",
      "source": [
        "tempos_execucao = {\n",
        "\"QuickSort\": [2.4, 3.4, 2.1],\n",
        "\"MergeSort\": [2.3, 1.9, 4.5],\n",
        "\"SelectionSort\": [3.1, 2.7, 1.8],\n",
        "\"InsertionSort\": [3.1, 2.7, 1.8],\n",
        "}\n",
        "\n",
        "vencedores = [][]\n",
        "\n"
      ],
      "metadata": {
        "id": "cUzokHem3MXT"
      },
      "execution_count": null,
      "outputs": []
    }
  ]
}